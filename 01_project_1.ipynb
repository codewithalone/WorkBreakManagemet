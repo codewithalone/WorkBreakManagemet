{
 "cells": [
  {
   "cell_type": "code",
   "execution_count": 9,
   "metadata": {},
   "outputs": [],
   "source": [
    "# Take a break \n",
    "#Do you know a friend of yours who studies codes and researches for hrs on hand.Maybe that person could be you.This can cause fatigue eye disorder and many more problem only if we could walk away from the computer for a little bit\n",
    "\n",
    "# oUTPUT\n",
    "#after every 2 hrs the program should open the browser to play your favorite song\n"
   ]
  },
  {
   "cell_type": "code",
   "execution_count": 2,
   "metadata": {},
   "outputs": [],
   "source": [
    "#1. check for how long the user is on the screen \n",
    "#2.if time exceeds limit then play some song\n",
    "#3.keep doing this on a loop\n"
   ]
  },
  {
   "cell_type": "code",
   "execution_count": 2,
   "metadata": {},
   "outputs": [
    {
     "name": "stdout",
     "output_type": "stream",
     "text": [
      "453459.0485537\n",
      "453469.1053486\n"
     ]
    }
   ],
   "source": [
    "import time \n",
    "import webbrowser\n",
    "for i in range(1):\n",
    "    print(time.perf_counter())\n",
    "    time.sleep(10)\n",
    "\n",
    "    url='https://youtu.be/47noolJchOY'\n",
    "    webbrowser.open_new_tab(url)\n",
    "    print(time.perf_counter())"
   ]
  },
  {
   "cell_type": "markdown",
   "metadata": {},
   "source": []
  },
  {
   "cell_type": "code",
   "execution_count": null,
   "metadata": {},
   "outputs": [],
   "source": []
  }
 ],
 "metadata": {
  "kernelspec": {
   "display_name": "Python 3",
   "language": "python",
   "name": "python3"
  },
  "language_info": {
   "codemirror_mode": {
    "name": "ipython",
    "version": 3
   },
   "file_extension": ".py",
   "mimetype": "text/x-python",
   "name": "python",
   "nbconvert_exporter": "python",
   "pygments_lexer": "ipython3",
   "version": "3.10.6"
  },
  "orig_nbformat": 4,
  "vscode": {
   "interpreter": {
    "hash": "e8899eb02dfbc033aab5733bdae1bd213fa031d40331094008e8673d99ebab63"
   }
  }
 },
 "nbformat": 4,
 "nbformat_minor": 2
}
